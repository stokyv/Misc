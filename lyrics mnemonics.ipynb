{
 "cells": [
  {
   "cell_type": "code",
   "execution_count": 1,
   "metadata": {},
   "outputs": [],
   "source": [
    "path = 'eclipse.txt'\n",
    "with open(path, 'r') as f:\n",
    "    lst = f.readlines()"
   ]
  },
  {
   "cell_type": "code",
   "execution_count": 3,
   "metadata": {},
   "outputs": [
    {
     "data": {
      "text/plain": [
       "['The lunatic is on the grass.\\n',\n",
       " '\\n',\n",
       " 'The lunatic is on the grass.\\n',\n",
       " 'Remembering games and daisy chains and laughs.\\n',\n",
       " 'Got to keep the loonies on the path.\\n',\n",
       " 'The lunatic is in the hall.\\n',\n",
       " '\\n',\n",
       " 'The lunatics are in my hall.\\n',\n",
       " 'The paper holds their folded faces to the floor\\n',\n",
       " 'And every day the paper boy brings more.\\n']"
      ]
     },
     "execution_count": 3,
     "metadata": {},
     "output_type": "execute_result"
    }
   ],
   "source": [
    "lst[:10]"
   ]
  },
  {
   "cell_type": "code",
   "execution_count": 14,
   "metadata": {},
   "outputs": [],
   "source": [
    "new = []\n",
    "for line in lst:\n",
    "    if line != '\\n':\n",
    "        results = line.split()\n",
    "        results = ''.join(word[0] if word[0] not in [\"'\", '\"'] else word[1] for word in results )\n",
    "        new.append(results + '\\n')\n",
    "    else:\n",
    "        new.append('\\n')\n",
    "new\n",
    "with open('memo.txt', 'w') as f:\n",
    "    for line in new:\n",
    "        f.write(line)"
   ]
  }
 ],
 "metadata": {
  "kernelspec": {
   "display_name": "Python 3",
   "language": "python",
   "name": "python3"
  },
  "language_info": {
   "codemirror_mode": {
    "name": "ipython",
    "version": 3
   },
   "file_extension": ".py",
   "mimetype": "text/x-python",
   "name": "python",
   "nbconvert_exporter": "python",
   "pygments_lexer": "ipython3",
   "version": "3.7.6"
  }
 },
 "nbformat": 4,
 "nbformat_minor": 4
}
